{
 "cells": [
  {
   "cell_type": "markdown",
   "metadata": {},
   "source": [
    "## Q1.\n",
    "\n",
    "Use github to integrate our math library from the lab with Travis CI and Coveralls.\n",
    "In the cell below, put a link to your github `cs207test` repo so we can track your badges."
   ]
  },
  {
   "cell_type": "markdown",
   "metadata": {},
   "source": [
    "*your answer here*\n",
    "\n",
    "https://github.com/chinhuic/cs207test"
   ]
  },
  {
   "cell_type": "markdown",
   "metadata": {},
   "source": [
    "## Q2.\n",
    "\n",
    "Take the implementation of binary search from a previous lecture/lab. Write unit tests for the algorithm (remember we have doctests in there), stripping the doctests down to those that illustrate the interface for a user. How do these doctests deal with the concerns we had?\n",
    "\n",
    "Make sure you have good test coverage. You will be integrating with Travis and Coveralls.\n",
    "\n",
    "from py.test to unit test"
   ]
  },
  {
   "cell_type": "code",
   "execution_count": 5,
   "metadata": {
    "collapsed": false
   },
   "outputs": [
    {
     "name": "stdout",
     "output_type": "stream",
     "text": [
      "Overwriting binsearch.py\n"
     ]
    }
   ],
   "source": [
    "%%file binsearch.py\n",
    "def binary_search(da_array: list, needle, left:int=0, right:int=-1) -> int:\n",
    "    \"\"\"\n",
    "    An algorithm that operates in O(lg(n)) to search for an element\n",
    "    in an array sorted in ascending order.\n",
    "    \n",
    "    Parameters\n",
    "    ----------\n",
    "    da_array : list\n",
    "        a list of \"comparable\"items sorted in non-descending order\n",
    "    needle: an item to find in the array; it may or may not\n",
    "        be in the array. \n",
    "    left: int, optional\n",
    "        the left index in the array to search from. Default 0\n",
    "    right: int, optional\n",
    "        the right index in the array to search to. Default is -1\n",
    "        in which case we will use the end of the array `len(da_array) - 1`\n",
    "        \n",
    "    Returns\n",
    "    -------\n",
    "    index: int\n",
    "        an integer representing the index of `needle` if found, and -1\n",
    "        otherwise\n",
    "        \n",
    "    Notes\n",
    "    -----\n",
    "    PRE: \n",
    "        -`da_array` is sorted in non-decreasing order (thus items in\n",
    "        `da_array` must be comparable: implement < and ==)\n",
    "        - `da_array` must not be an NaN or inf\n",
    "        - `needle` must not be an NaN or inf\n",
    "    POST: \n",
    "        - `da_array` is not changed by this function (immutable)\n",
    "        - returns `index`=-1 if `needle` is not in `da_array`\n",
    "        - returns an int `index ` in [0:len(da_array)] if\n",
    "          `index` is in `da_array`\n",
    "    ##INVARIANTS:\n",
    "        - If `needle` in `da_array`, needle in `da_array[rangemin:rangemax]`\n",
    "          is a loop invariant in the while loop below.\n",
    "\n",
    "\n",
    "    \"\"\"\n",
    "    if left==0:\n",
    "        rangemin = 0\n",
    "    else:\n",
    "        rangemin = left\n",
    "    if right==-1:\n",
    "        rangemax=len(da_array) - 1\n",
    "    else:\n",
    "        rangemax=right\n",
    "    while True:\n",
    "        \"needle in da_array => needle in da_array[rangemin:rangemax]\"   \n",
    "        if rangemin > rangemax:\n",
    "            index = -1\n",
    "            return index\n",
    "        #If rangemin and rangemax are both very high we do not want overflow,\n",
    "        #so get the midpoint like this:\n",
    "        midpoint = rangemin + (rangemax - rangemin)//2\n",
    "        if da_array[midpoint] > needle:#lower part\n",
    "            rangemax = midpoint - 1\n",
    "        elif da_array[midpoint] < needle:\n",
    "            rangemin = midpoint + 1\n",
    "        else:\n",
    "            index = midpoint\n",
    "            return index\n"
   ]
  },
  {
   "cell_type": "code",
   "execution_count": 6,
   "metadata": {
    "collapsed": false
   },
   "outputs": [
    {
     "name": "stdout",
     "output_type": "stream",
     "text": [
      "Overwriting test_binsearch.py\n"
     ]
    }
   ],
   "source": [
    "%%file test_binsearch.py\n",
    "\n",
    "from binsearch import binary_search\n",
    "import unittest\n",
    "import numbers\n",
    "import numpy as np\n",
    "from fractions import Fraction\n",
    "\n",
    "input1 = range(10)\n",
    "input2 = [20, 23, 23, 45, 45, 78, 79]\n",
    "\n",
    "class MyTest(unittest.TestCase):\n",
    "    # all of them have test_xxx so that unittest main can run it\n",
    "    \n",
    "    def test_value_found(self):\n",
    "        self.assertEqual(binary_search(input1, 5),5)\n",
    "        self.assertEqual(binary_search([5], 5),0)\n",
    "    \n",
    "    def test_value_found_dup(self):\n",
    "        self.assertIn(binary_search(input2, 23), (1,2))\n",
    "        self.assertIn(binary_search(input2, 45), (3,4))\n",
    "    \n",
    "    def test_value_not_found(self):\n",
    "        self.assertEqual(binary_search(input1, -5.5),-1)\n",
    "        self.assertEqual(binary_search(input1, 50),-1)\n",
    "        self.assertEqual(binary_search([5], -2),-1)\n",
    "    \n",
    "    def test_with_inf(self):\n",
    "        self.assertEqual(binary_search([1,2, np.inf], 2),1)\n",
    "        self.assertEqual(binary_search([1, 2, 5 , 6,8 , np.inf], np.inf), 5)\n",
    "        self.assertEqual(binary_search([1,np.inf, 2, 5 , 6], -4), -1)\n",
    "        self.assertEqual(binary_search([1,np.inf, 2, 5 , 6], 10), -1)\n",
    "        \n",
    "    def test_with_NaN(self):\n",
    "        self.assertEqual(binary_search([np.nan, 2, 5 , 6], 2),1)\n",
    "        self.assertTrue(binary_search([np.nan, 2, 5 , 6], np.nan), numbers.Real)\n",
    "        self.assertEqual(binary_search([1,np.nan, 2, 5 , 6], -4), -1)\n",
    "        self.assertEqual(binary_search([1,np.nan, 2, 5 , 6], 10), -1)\n",
    "        \n",
    "    def test_with_left_right_parameters(self):\n",
    "        self.assertEqual(binary_search(input1, 5, 1, 3), -1)\n",
    "        self.assertEqual(binary_search(input1, 2, 1, 3), 2)\n",
    "        self.assertEqual(binary_search(input1, 2, 3, 1), -1)\n",
    "        self.assertEqual(binary_search(input1, 2, 2, 2), 2)\n",
    "        self.assertEqual(binary_search(input1, 5, 2, 2), -1)\n",
    "        \n",
    "    def test_with_empty_array(self):\n",
    "        self.assertEqual(binary_search([], 5),-1)\n",
    "        \n",
    "    def test_char(self):\n",
    "        with self.assertRaises(TypeError):\n",
    "            binary_search(['a', 6], 7)\n",
    "            \n",
    "    def test_char(self):\n",
    "        with self.assertRaises(TypeError):\n",
    "            binary_search([2, 6], 'a')\n",
    "            \n",
    "    def test_with_fraction(self):\n",
    "        self.assertEqual(binary_search([Fraction(1,6),Fraction(7/9), 5, 10 ], 5), 2)\n",
    "        \n",
    "\n",
    "if __name__ == '__main__':\n",
    "    unittest.main()"
   ]
  },
  {
   "cell_type": "code",
   "execution_count": 2,
   "metadata": {
    "collapsed": false
   },
   "outputs": [
    {
     "name": "stdout",
     "output_type": "stream",
     "text": [
      ".........\r\n",
      "----------------------------------------------------------------------\r\n",
      "Ran 9 tests in 0.001s\r\n",
      "\r\n",
      "OK\r\n"
     ]
    }
   ],
   "source": [
    "!python3 -m unittest test_binsearch.py"
   ]
  },
  {
   "cell_type": "code",
   "execution_count": 8,
   "metadata": {
    "collapsed": false
   },
   "outputs": [
    {
     "name": "stdout",
     "output_type": "stream",
     "text": [
      "Traceback (most recent call last):\r\n",
      "  File \"/Users/chinhuichew/anaconda/envs/py35/bin/py.test\", line 6, in <module>\r\n",
      "    sys.exit(py.test.main())\r\n",
      "  File \"/Users/chinhuichew/anaconda/envs/py35/lib/python3.5/site-packages/_pytest/config.py\", line 39, in main\r\n",
      "    config = _prepareconfig(args, plugins)\r\n",
      "  File \"/Users/chinhuichew/anaconda/envs/py35/lib/python3.5/site-packages/_pytest/config.py\", line 118, in _prepareconfig\r\n",
      "    pluginmanager=pluginmanager, args=args)\r\n",
      "  File \"/Users/chinhuichew/anaconda/envs/py35/lib/python3.5/site-packages/_pytest/vendored_packages/pluggy.py\", line 724, in __call__\r\n",
      "    return self._hookexec(self, self._nonwrappers + self._wrappers, kwargs)\r\n",
      "  File \"/Users/chinhuichew/anaconda/envs/py35/lib/python3.5/site-packages/_pytest/vendored_packages/pluggy.py\", line 338, in _hookexec\r\n",
      "    return self._inner_hookexec(hook, methods, kwargs)\r\n",
      "  File \"/Users/chinhuichew/anaconda/envs/py35/lib/python3.5/site-packages/_pytest/vendored_packages/pluggy.py\", line 333, in <lambda>\r\n",
      "    _MultiCall(methods, kwargs, hook.spec_opts).execute()\r\n",
      "  File \"/Users/chinhuichew/anaconda/envs/py35/lib/python3.5/site-packages/_pytest/vendored_packages/pluggy.py\", line 595, in execute\r\n",
      "    return _wrapped_call(hook_impl.function(*args), self.execute)\r\n",
      "  File \"/Users/chinhuichew/anaconda/envs/py35/lib/python3.5/site-packages/_pytest/vendored_packages/pluggy.py\", line 249, in _wrapped_call\r\n",
      "    wrap_controller.send(call_outcome)\r\n",
      "  File \"/Users/chinhuichew/anaconda/envs/py35/lib/python3.5/site-packages/_pytest/helpconfig.py\", line 28, in pytest_cmdline_parse\r\n",
      "    config = outcome.get_result()\r\n",
      "  File \"/Users/chinhuichew/anaconda/envs/py35/lib/python3.5/site-packages/_pytest/vendored_packages/pluggy.py\", line 278, in get_result\r\n",
      "    raise ex[1].with_traceback(ex[2])\r\n",
      "  File \"/Users/chinhuichew/anaconda/envs/py35/lib/python3.5/site-packages/_pytest/vendored_packages/pluggy.py\", line 264, in __init__\r\n",
      "    self.result = func()\r\n",
      "  File \"/Users/chinhuichew/anaconda/envs/py35/lib/python3.5/site-packages/_pytest/vendored_packages/pluggy.py\", line 596, in execute\r\n",
      "    res = hook_impl.function(*args)\r\n",
      "  File \"/Users/chinhuichew/anaconda/envs/py35/lib/python3.5/site-packages/_pytest/config.py\", line 861, in pytest_cmdline_parse\r\n",
      "    self.parse(args)\r\n",
      "  File \"/Users/chinhuichew/anaconda/envs/py35/lib/python3.5/site-packages/_pytest/config.py\", line 966, in parse\r\n",
      "    self._preparse(args, addopts=addopts)\r\n",
      "  File \"/Users/chinhuichew/anaconda/envs/py35/lib/python3.5/site-packages/_pytest/config.py\", line 937, in _preparse\r\n",
      "    args=args, parser=self._parser)\r\n",
      "  File \"/Users/chinhuichew/anaconda/envs/py35/lib/python3.5/site-packages/_pytest/vendored_packages/pluggy.py\", line 724, in __call__\r\n",
      "    return self._hookexec(self, self._nonwrappers + self._wrappers, kwargs)\r\n",
      "  File \"/Users/chinhuichew/anaconda/envs/py35/lib/python3.5/site-packages/_pytest/vendored_packages/pluggy.py\", line 338, in _hookexec\r\n",
      "    return self._inner_hookexec(hook, methods, kwargs)\r\n",
      "  File \"/Users/chinhuichew/anaconda/envs/py35/lib/python3.5/site-packages/_pytest/vendored_packages/pluggy.py\", line 333, in <lambda>\r\n",
      "    _MultiCall(methods, kwargs, hook.spec_opts).execute()\r\n",
      "  File \"/Users/chinhuichew/anaconda/envs/py35/lib/python3.5/site-packages/_pytest/vendored_packages/pluggy.py\", line 595, in execute\r\n",
      "    return _wrapped_call(hook_impl.function(*args), self.execute)\r\n",
      "  File \"/Users/chinhuichew/anaconda/envs/py35/lib/python3.5/site-packages/_pytest/vendored_packages/pluggy.py\", line 253, in _wrapped_call\r\n",
      "    return call_outcome.get_result()\r\n",
      "  File \"/Users/chinhuichew/anaconda/envs/py35/lib/python3.5/site-packages/_pytest/vendored_packages/pluggy.py\", line 278, in get_result\r\n",
      "    raise ex[1].with_traceback(ex[2])\r\n",
      "  File \"/Users/chinhuichew/anaconda/envs/py35/lib/python3.5/site-packages/_pytest/vendored_packages/pluggy.py\", line 264, in __init__\r\n",
      "    self.result = func()\r\n",
      "  File \"/Users/chinhuichew/anaconda/envs/py35/lib/python3.5/site-packages/_pytest/vendored_packages/pluggy.py\", line 596, in execute\r\n",
      "    res = hook_impl.function(*args)\r\n",
      "  File \"/Users/chinhuichew/anaconda/envs/py35/lib/python3.5/site-packages/pytest_cov/plugin.py\", line 92, in pytest_load_initial_conftests\r\n",
      "    plugin = CovPlugin(ns, early_config.pluginmanager)\r\n",
      "  File \"/Users/chinhuichew/anaconda/envs/py35/lib/python3.5/site-packages/pytest_cov/plugin.py\", line 142, in __init__\r\n",
      "    self.start(engine.Central)\r\n",
      "  File \"/Users/chinhuichew/anaconda/envs/py35/lib/python3.5/site-packages/pytest_cov/plugin.py\", line 162, in start\r\n",
      "    self.cov_controller.start()\r\n",
      "  File \"/Users/chinhuichew/anaconda/envs/py35/lib/python3.5/site-packages/pytest_cov/engine.py\", line 141, in start\r\n",
      "    self.cov.erase()\r\n",
      "  File \"/Users/chinhuichew/anaconda/envs/py35/lib/python3.5/site-packages/coverage/control.py\", line 727, in erase\r\n",
      "    self._init()\r\n",
      "  File \"/Users/chinhuichew/anaconda/envs/py35/lib/python3.5/site-packages/coverage/control.py\", line 246, in _init\r\n",
      "    self.source.append(files.canonical_filename(src))\r\n",
      "  File \"/Users/chinhuichew/anaconda/envs/py35/lib/python3.5/site-packages/coverage/files.py\", line 61, in canonical_filename\r\n",
      "    if not os.path.isabs(filename):\r\n",
      "  File \"/Users/chinhuichew/anaconda/envs/py35/lib/python3.5/posixpath.py\", line 64, in isabs\r\n",
      "    return s.startswith(sep)\r\n",
      "AttributeError: 'bool' object has no attribute 'startswith'\r\n"
     ]
    }
   ],
   "source": [
    "!py.test --doctest-modules --cov --cov-report term-missing binsearch.py test_binsearch.py"
   ]
  },
  {
   "cell_type": "markdown",
   "metadata": {},
   "source": [
    "In addition, we should be **systematic** about testing our code. You should at-least jave some tests like this:\n",
    "\n",
    "1. We should test with wierd data, ie a wierd array: does it have NANs, is it numeric? Does it have 0 elelemts? 1 element? 2?...ie test the boundaries\n",
    "\n",
    "2. Then think of how the needle relates to the above. Try needles less than or greter than the range in the sorted array, besides needles inbetween (in both cases the needle not being in the array). Try needles at the extremes of the array.\n",
    "\n",
    "3. test the integration of 1 and 2 to make sure something has not gone wrong there.\n",
    "\n",
    "Note: you can always compare your answers with linear search implemented in python."
   ]
  },
  {
   "cell_type": "markdown",
   "metadata": {},
   "source": [
    "For reference, here are some of our concerns from that lab:\n",
    "\n",
    "#### What's happened to our issue from before?\n",
    "\n",
    "- What if the value is not there in the array? What if it is there multiple times? what are we returning (why the -1). Are we consistent in our returning?\n",
    "\n",
    "We return -1 if the element is not in the array. If it is there multiple times, we will return one of them: it is not defined which. We are consistent by always returning an int, choosing one which cannot be an index.\n",
    "\n",
    "- What if rangemax is so high as to create overflow: \n",
    "\n",
    "We fixed it by using the difference and have documented it in the algorithm\n",
    "\n",
    "\n",
    "- what types are we supporting? . \n",
    "\n",
    "It seems that as long as we have a notion of equals `==`, and a notion of `<` to support sorting we are set. We should document this.\n",
    "\n",
    "- what happens if we have a NaN in our array? Infty?\n",
    "\n",
    "If our preconditions are violated by the user, we can do anything. Doing it nicely might be costly. so we wont.\n",
    "\n",
    "\n",
    "- what if da_array was not an array?\n",
    "\n",
    "The user violated the pre-conditions. Anything could happen. We could check for a list\n",
    "but yhen that would hurt a special class which implemented the python sequence protocol\n",
    "\n",
    "- What happens if array is not sorted: \n",
    "\n",
    "The user violated the pre-conditions. We could return an error, violate post conditions. If we sort it we'd violate the o(lg(n)) notion. (fixing it seems dubious). Can we check if its sorted? This is naively O(n) and breaks our performance specifications. We can create a guard to terminate the array at more than n iterations for the infinite case or let the user have enough rope to hang themselves\n",
    "\n"
   ]
  },
  {
   "cell_type": "markdown",
   "metadata": {},
   "source": [
    "**Submit** this to us by creating a repo `cs207binsearch` under your userid with a file `binarysearch.py` and accompanying test file(s). Intergrate with Travis CI and Coveralls. Set up badges on the README of your repo. Write the link to your repo below."
   ]
  },
  {
   "cell_type": "markdown",
   "metadata": {},
   "source": [
    "*your answer here*"
   ]
  }
 ],
 "metadata": {
  "anaconda-cloud": {},
  "kernelspec": {
   "display_name": "Python [py35]",
   "language": "python",
   "name": "Python [py35]"
  },
  "language_info": {
   "codemirror_mode": {
    "name": "ipython",
    "version": 3
   },
   "file_extension": ".py",
   "mimetype": "text/x-python",
   "name": "python",
   "nbconvert_exporter": "python",
   "pygments_lexer": "ipython3",
   "version": "3.5.2"
  }
 },
 "nbformat": 4,
 "nbformat_minor": 0
}
